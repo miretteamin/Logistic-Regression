{
  "nbformat": 4,
  "nbformat_minor": 0,
  "metadata": {
    "colab": {
      "provenance": []
    },
    "kernelspec": {
      "name": "python3",
      "display_name": "Python 3"
    },
    "language_info": {
      "name": "python"
    }
  },
  "cells": [
    {
      "cell_type": "code",
      "source": [
        "!pip install opendatasets\n"
      ],
      "metadata": {
        "colab": {
          "base_uri": "https://localhost:8080/"
        },
        "id": "QReha4dAjRdU",
        "outputId": "34091b9b-5239-420b-f8fe-299525c0ea4d"
      },
      "execution_count": 367,
      "outputs": [
        {
          "output_type": "stream",
          "name": "stdout",
          "text": [
            "Looking in indexes: https://pypi.org/simple, https://us-python.pkg.dev/colab-wheels/public/simple/\n",
            "Requirement already satisfied: opendatasets in /usr/local/lib/python3.7/dist-packages (0.1.22)\n",
            "Requirement already satisfied: click in /usr/local/lib/python3.7/dist-packages (from opendatasets) (7.1.2)\n",
            "Requirement already satisfied: tqdm in /usr/local/lib/python3.7/dist-packages (from opendatasets) (4.64.1)\n",
            "Requirement already satisfied: kaggle in /usr/local/lib/python3.7/dist-packages (from opendatasets) (1.5.12)\n",
            "Requirement already satisfied: urllib3 in /usr/local/lib/python3.7/dist-packages (from kaggle->opendatasets) (1.24.3)\n",
            "Requirement already satisfied: six>=1.10 in /usr/local/lib/python3.7/dist-packages (from kaggle->opendatasets) (1.15.0)\n",
            "Requirement already satisfied: requests in /usr/local/lib/python3.7/dist-packages (from kaggle->opendatasets) (2.23.0)\n",
            "Requirement already satisfied: python-slugify in /usr/local/lib/python3.7/dist-packages (from kaggle->opendatasets) (6.1.2)\n",
            "Requirement already satisfied: certifi in /usr/local/lib/python3.7/dist-packages (from kaggle->opendatasets) (2022.9.24)\n",
            "Requirement already satisfied: python-dateutil in /usr/local/lib/python3.7/dist-packages (from kaggle->opendatasets) (2.8.2)\n",
            "Requirement already satisfied: text-unidecode>=1.3 in /usr/local/lib/python3.7/dist-packages (from python-slugify->kaggle->opendatasets) (1.3)\n",
            "Requirement already satisfied: idna<3,>=2.5 in /usr/local/lib/python3.7/dist-packages (from requests->kaggle->opendatasets) (2.10)\n",
            "Requirement already satisfied: chardet<4,>=3.0.2 in /usr/local/lib/python3.7/dist-packages (from requests->kaggle->opendatasets) (3.0.4)\n"
          ]
        }
      ]
    },
    {
      "cell_type": "code",
      "execution_count": 368,
      "metadata": {
        "id": "qfnk1NoSihAb"
      },
      "outputs": [],
      "source": [
        "import numpy as np\n",
        "from numpy.core.fromnumeric import shape, size\n",
        "from random import random, randint, uniform\n",
        "from keras.datasets import mnist\n",
        "import opendatasets as od\n",
        "import pandas as pd\n",
        "from sklearn.model_selection import StratifiedShuffleSplit, train_test_split\n",
        "from sklearn.metrics import accuracy_score\n"
      ]
    },
    {
      "cell_type": "code",
      "source": [
        "def sigmoid(x):  \n",
        "  return 1.0 / (1.0 + np.exp(-x))\n",
        "\n",
        "def loss(y_predict, y):\n",
        "    return (-y* np.log(y_predict) - (1 - y)*np.log(1 - y_predict))"
      ],
      "metadata": {
        "id": "uaqAPZUrim71"
      },
      "execution_count": 400,
      "outputs": []
    },
    {
      "cell_type": "code",
      "source": [
        "class Logistic_Regression:\n",
        "    def __init__(self):\n",
        "        self.weight =0\n",
        "\n",
        "    def feedForward(self, inputs):\n",
        "        self.outputs= []\n",
        "        self.outputs  = sigmoid(np.dot(inputs, np.array(self.weight)))\n",
        "        return self.outputs\n",
        "\n",
        "    def fit(self, inputs, target, iterations=100, learning_rate=0.01):\n",
        "        self.weight = np.random.rand(np.shape(inputs)[1])\n",
        "        for i in range(iterations):\n",
        "            self.feedForward(inputs)\n",
        "            delta=np.dot((self.outputs- target), inputs)/target.size\n",
        "            dw = learning_rate*delta\n",
        "            self.weight = self.weight - dw \n",
        "            if(i%10 == 0):\n",
        "                print(accuracy_score(self.outputs, target))\n",
        "                #print(loss(self.outputs, target))\n",
        "\n"
      ],
      "metadata": {
        "id": "mXnN74--ipJe"
      },
      "execution_count": 401,
      "outputs": []
    },
    {
      "cell_type": "code",
      "source": [
        "        # bais = np.ones((inputs.shape[0], 1))\n",
        "        # inputs = np.concatenate((bais, inputs), axis=1)"
      ],
      "metadata": {
        "id": "Pwpug7Ix5HN6"
      },
      "execution_count": 402,
      "outputs": []
    },
    {
      "cell_type": "code",
      "source": [
        "\n",
        "od.download(\"https://www.kaggle.com/datasets/deepcontractor/smoke-detection-dataset\")"
      ],
      "metadata": {
        "colab": {
          "base_uri": "https://localhost:8080/"
        },
        "id": "woOm8fW0jMDV",
        "outputId": "a19e799c-3813-420d-8652-41f2cade37ef"
      },
      "execution_count": 403,
      "outputs": [
        {
          "output_type": "stream",
          "name": "stdout",
          "text": [
            "Skipping, found downloaded files in \"./smoke-detection-dataset\" (use force=True to force download)\n"
          ]
        }
      ]
    },
    {
      "cell_type": "code",
      "source": [
        "df = pd.read_csv(\"/content/smoke-detection-dataset/smoke_detection_iot.csv\")\n",
        "df.drop(['Unnamed: 0', 'UTC'], axis=1, inplace=True)\n",
        "df.info()"
      ],
      "metadata": {
        "colab": {
          "base_uri": "https://localhost:8080/"
        },
        "id": "HY1_MZd_jeUK",
        "outputId": "6758231a-e4b3-44c7-ddf5-c8da98148249"
      },
      "execution_count": 404,
      "outputs": [
        {
          "output_type": "stream",
          "name": "stdout",
          "text": [
            "<class 'pandas.core.frame.DataFrame'>\n",
            "RangeIndex: 62630 entries, 0 to 62629\n",
            "Data columns (total 14 columns):\n",
            " #   Column          Non-Null Count  Dtype  \n",
            "---  ------          --------------  -----  \n",
            " 0   Temperature[C]  62630 non-null  float64\n",
            " 1   Humidity[%]     62630 non-null  float64\n",
            " 2   TVOC[ppb]       62630 non-null  int64  \n",
            " 3   eCO2[ppm]       62630 non-null  int64  \n",
            " 4   Raw H2          62630 non-null  int64  \n",
            " 5   Raw Ethanol     62630 non-null  int64  \n",
            " 6   Pressure[hPa]   62630 non-null  float64\n",
            " 7   PM1.0           62630 non-null  float64\n",
            " 8   PM2.5           62630 non-null  float64\n",
            " 9   NC0.5           62630 non-null  float64\n",
            " 10  NC1.0           62630 non-null  float64\n",
            " 11  NC2.5           62630 non-null  float64\n",
            " 12  CNT             62630 non-null  int64  \n",
            " 13  Fire Alarm      62630 non-null  int64  \n",
            "dtypes: float64(8), int64(6)\n",
            "memory usage: 6.7 MB\n"
          ]
        }
      ]
    },
    {
      "cell_type": "code",
      "source": [
        "y = df.pop('Fire Alarm').to_numpy()\n",
        "X = df\n"
      ],
      "metadata": {
        "id": "SAgU4LLhjn2h"
      },
      "execution_count": 405,
      "outputs": []
    },
    {
      "cell_type": "code",
      "source": [
        "X_train, X_test, y_train, y_test = train_test_split(X, y, test_size=0.3, shuffle=True)"
      ],
      "metadata": {
        "id": "yYZLST3_jzWa"
      },
      "execution_count": 406,
      "outputs": []
    },
    {
      "cell_type": "code",
      "source": [
        "lr= Logistic_Regression().fit(X_train[:1000], y_train[:1000])\n"
      ],
      "metadata": {
        "colab": {
          "base_uri": "https://localhost:8080/"
        },
        "id": "cy2oYb4xirgB",
        "outputId": "5f84c4c5-7125-4904-8ab3-a5ba67409d1a"
      },
      "execution_count": 408,
      "outputs": [
        {
          "output_type": "stream",
          "name": "stdout",
          "text": [
            "0.702\n",
            "0.84\n",
            "0.918\n",
            "0.927\n",
            "0.929\n",
            "0.932\n",
            "0.929\n",
            "0.919\n",
            "0.918\n",
            "0.923\n"
          ]
        },
        {
          "output_type": "stream",
          "name": "stderr",
          "text": [
            "/usr/local/lib/python3.7/dist-packages/ipykernel_launcher.py:2: RuntimeWarning: overflow encountered in exp\n",
            "  \n",
            "/usr/local/lib/python3.7/dist-packages/ipykernel_launcher.py:2: RuntimeWarning: overflow encountered in exp\n",
            "  \n",
            "/usr/local/lib/python3.7/dist-packages/ipykernel_launcher.py:2: RuntimeWarning: overflow encountered in exp\n",
            "  \n",
            "/usr/local/lib/python3.7/dist-packages/ipykernel_launcher.py:2: RuntimeWarning: overflow encountered in exp\n",
            "  \n",
            "/usr/local/lib/python3.7/dist-packages/ipykernel_launcher.py:2: RuntimeWarning: overflow encountered in exp\n",
            "  \n",
            "/usr/local/lib/python3.7/dist-packages/ipykernel_launcher.py:2: RuntimeWarning: overflow encountered in exp\n",
            "  \n",
            "/usr/local/lib/python3.7/dist-packages/ipykernel_launcher.py:2: RuntimeWarning: overflow encountered in exp\n",
            "  \n",
            "/usr/local/lib/python3.7/dist-packages/ipykernel_launcher.py:2: RuntimeWarning: overflow encountered in exp\n",
            "  \n",
            "/usr/local/lib/python3.7/dist-packages/ipykernel_launcher.py:2: RuntimeWarning: overflow encountered in exp\n",
            "  \n",
            "/usr/local/lib/python3.7/dist-packages/ipykernel_launcher.py:2: RuntimeWarning: overflow encountered in exp\n",
            "  \n"
          ]
        }
      ]
    }
  ]
}